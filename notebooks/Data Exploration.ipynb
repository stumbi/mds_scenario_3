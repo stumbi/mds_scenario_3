{
 "cells": [
  {
   "cell_type": "code",
   "execution_count": 13,
   "outputs": [],
   "source": [
    "import pandas as pd\n",
    "import numpy as np\n",
    "import plotly.graph_objs as go\n",
    "import csv\n",
    "from datetime import datetime"
   ],
   "metadata": {
    "collapsed": false,
    "pycharm": {
     "name": "#%%\n"
    }
   }
  },
  {
   "cell_type": "code",
   "execution_count": 3,
   "metadata": {
    "collapsed": true,
    "pycharm": {
     "name": "#%%\n"
    }
   },
   "outputs": [],
   "source": [
    "path = \"../data/Exercises_SS22/sleeplab_dataset_10hz/patient_29_male_7_years/\""
   ]
  },
  {
   "cell_type": "code",
   "execution_count": 9,
   "outputs": [
    {
     "name": "stdout",
     "output_type": "stream",
     "text": [
      "['21:34:06', '06:39:37']\n"
     ]
    }
   ],
   "source": [
    "df = pd.read_csv(path + \"BeinLi_10HZ.csv\", skiprows=1)\n",
    "with open(path + \"BeinLi_10HZ.csv\", newline='') as f:\n",
    "    reader = csv.reader(f)\n",
    "    start_end_time = next(reader)\n",
    "df_label = pd.read_csv(path + \"sleep_staging.csv\")\n",
    "print(start_end_time)"
   ],
   "metadata": {
    "collapsed": false,
    "pycharm": {
     "name": "#%%\n"
    }
   }
  },
  {
   "cell_type": "code",
   "execution_count": 17,
   "outputs": [],
   "source": [
    "start = datetime.strptime(start_end_time[0], \"%H:%M:%S\")\n",
    "end = datetime.strptime(start_end_time[1], \"%H:%M:%S\")\n",
    "duration_in_seconds = int(((start - end).total_seconds()))"
   ],
   "metadata": {
    "collapsed": false,
    "pycharm": {
     "name": "#%%\n"
    }
   }
  },
  {
   "cell_type": "code",
   "execution_count": 26,
   "outputs": [
    {
     "data": {
      "text/plain": "6"
     },
     "execution_count": 26,
     "metadata": {},
     "output_type": "execute_result"
    }
   ],
   "source": [
    "full_number = int(len(df)/duration_in_seconds)\n",
    "behind_decimal_point = len(df)/duration_in_seconds % 1\n",
    "i = 0\n",
    "label_repeat = 0\n",
    "while i < 1:\n",
    "    i += behind_decimal_point\n",
    "    label_repeat += 1\n",
    "full_number\n"
   ],
   "metadata": {
    "collapsed": false,
    "pycharm": {
     "name": "#%%\n"
    }
   }
  }
 ],
 "metadata": {
  "kernelspec": {
   "display_name": "Python 3",
   "language": "python",
   "name": "python3"
  },
  "language_info": {
   "codemirror_mode": {
    "name": "ipython",
    "version": 2
   },
   "file_extension": ".py",
   "mimetype": "text/x-python",
   "name": "python",
   "nbconvert_exporter": "python",
   "pygments_lexer": "ipython2",
   "version": "2.7.6"
  }
 },
 "nbformat": 4,
 "nbformat_minor": 0
}