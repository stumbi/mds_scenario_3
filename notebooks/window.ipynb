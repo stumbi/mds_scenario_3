{
 "cells": [
  {
   "cell_type": "code",
   "execution_count": 1,
   "id": "fd1a1417",
   "metadata": {},
   "outputs": [],
   "source": [
    "import numpy as np\n",
    "import pandas as pd\n"
   ]
  },
  {
   "cell_type": "markdown",
   "id": "074d87de",
   "metadata": {},
   "source": [
    "# Read data"
   ]
  },
  {
   "cell_type": "code",
   "execution_count": 51,
   "id": "4405a2cd",
   "metadata": {},
   "outputs": [],
   "source": [
    "path = '../data/Exercises_SS22/sleeplab_dataset_10hz/patient_29_male_7_years/BeinLi_10HZ.csv'\n",
    "label_path = '../data/Exercises_SS22/sleeplab_dataset_10hz/patient_29_male_7_years/sleep_staging.csv'"
   ]
  },
  {
   "cell_type": "code",
   "execution_count": 52,
   "id": "497031c6",
   "metadata": {},
   "outputs": [],
   "source": [
    "from numpy import genfromtxt\n",
    "array = genfromtxt(path, delimiter=',', skip_header=1)\n",
    "label = genfromtxt(label_path, delimiter=',')"
   ]
  },
  {
   "cell_type": "code",
   "execution_count": 17,
   "id": "dcaf5fd0",
   "metadata": {},
   "outputs": [],
   "source": [
    "def window(a, w = 4, o = 2, copy = False):\n",
    "    sh = (a.size - w + 1, w)\n",
    "    st = a.strides * 2\n",
    "    view = np.lib.stride_tricks.as_strided(a, strides = st, shape = sh)[0::o]\n",
    "    if copy:\n",
    "        return view.copy()\n",
    "    else:\n",
    "        return view"
   ]
  },
  {
   "cell_type": "code",
   "execution_count": 53,
   "id": "53521d5f",
   "metadata": {},
   "outputs": [
    {
     "data": {
      "text/plain": [
       "(1093, 3)"
      ]
     },
     "execution_count": 53,
     "metadata": {},
     "output_type": "execute_result"
    }
   ],
   "source": [
    "array = np.transpose(array)\n",
    "label.shape"
   ]
  },
  {
   "cell_type": "code",
   "execution_count": 54,
   "id": "e06fcdb0",
   "metadata": {},
   "outputs": [
    {
     "data": {
      "text/plain": [
       "array([[      nan,       nan,       nan],\n",
       "       [1.000e+00,       nan,       nan],\n",
       "       [2.000e+00,       nan,       nan],\n",
       "       ...,\n",
       "       [1.090e+03,       nan,       nan],\n",
       "       [1.091e+03,       nan,       nan],\n",
       "       [1.092e+03,       nan,       nan]])"
      ]
     },
     "execution_count": 54,
     "metadata": {},
     "output_type": "execute_result"
    }
   ],
   "source": [
    "label"
   ]
  },
  {
   "cell_type": "code",
   "execution_count": 47,
   "id": "d673bf3a",
   "metadata": {},
   "outputs": [
    {
     "name": "stdout",
     "output_type": "stream",
     "text": [
      "[[  0.   0.   0.   0.]\n",
      " [  0.   0.   0.  -6.]\n",
      " [  0.  -6.  78. -78.]\n",
      " ...\n",
      " [ -2.  -1.  -1.   2.]\n",
      " [ -1.   2.  -2.   0.]\n",
      " [ -2.   0.   1.   2.]]\n"
     ]
    }
   ],
   "source": [
    "print(window(array))"
   ]
  }
 ],
 "metadata": {
  "kernelspec": {
   "display_name": "Python 3 (ipykernel)",
   "language": "python",
   "name": "python3"
  },
  "language_info": {
   "codemirror_mode": {
    "name": "ipython",
    "version": 3
   },
   "file_extension": ".py",
   "mimetype": "text/x-python",
   "name": "python",
   "nbconvert_exporter": "python",
   "pygments_lexer": "ipython3",
   "version": "3.9.7"
  }
 },
 "nbformat": 4,
 "nbformat_minor": 5
}
