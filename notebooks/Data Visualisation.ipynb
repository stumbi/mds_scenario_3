{
 "cells": [
  {
   "cell_type": "code",
   "execution_count": 1,
   "id": "1be2c6af",
   "metadata": {},
   "outputs": [],
   "source": [
    "import numpy as np\n",
    "import pandas as pd\n",
    "import plotly.graph_objects as go\n",
    "import os"
   ]
  },
  {
   "cell_type": "markdown",
   "id": "f5499646",
   "metadata": {},
   "source": [
    "## Read Data"
   ]
  },
  {
   "cell_type": "code",
   "execution_count": 2,
   "id": "37937588",
   "metadata": {},
   "outputs": [],
   "source": [
    "path_to_raw_dir = '../data/Exercises_SS22/sleeplab_dataset/sleep_lab_data/'\n",
    "\n",
    "content_dir = os.listdir(path_to_raw_dir)\n",
    "\n",
    "patient_data = []\n",
    "\n",
    "for patient in content_dir:\n",
    "    pat_dir = os.listdir(path_to_raw_dir + '/' + patient)\n",
    "    patient_data.append(pat_dir)"
   ]
  },
  {
   "cell_type": "code",
   "execution_count": 5,
   "id": "6623974f",
   "metadata": {},
   "outputs": [
    {
     "name": "stderr",
     "output_type": "stream",
     "text": [
      "/var/folders/g6/x4tl74v50ws8d3m02r0_9d6m0000gn/T/ipykernel_51973/2381184623.py:4: DtypeWarning: Columns (0,1) have mixed types. Specify dtype option on import or set low_memory=False.\n",
      "  dfs.append(pd.read_csv(path_to_raw_dir + patient + '/' + pat_modalities, skiprows=0, names=[pat_modalities[:-4]]))\n",
      "/var/folders/g6/x4tl74v50ws8d3m02r0_9d6m0000gn/T/ipykernel_51973/2381184623.py:4: DtypeWarning: Columns (0,1) have mixed types. Specify dtype option on import or set low_memory=False.\n",
      "  dfs.append(pd.read_csv(path_to_raw_dir + patient + '/' + pat_modalities, skiprows=0, names=[pat_modalities[:-4]]))\n",
      "/var/folders/g6/x4tl74v50ws8d3m02r0_9d6m0000gn/T/ipykernel_51973/2381184623.py:4: DtypeWarning: Columns (0,1) have mixed types. Specify dtype option on import or set low_memory=False.\n",
      "  dfs.append(pd.read_csv(path_to_raw_dir + patient + '/' + pat_modalities, skiprows=0, names=[pat_modalities[:-4]]))\n",
      "/var/folders/g6/x4tl74v50ws8d3m02r0_9d6m0000gn/T/ipykernel_51973/2381184623.py:4: DtypeWarning: Columns (0,1) have mixed types. Specify dtype option on import or set low_memory=False.\n",
      "  dfs.append(pd.read_csv(path_to_raw_dir + patient + '/' + pat_modalities, skiprows=0, names=[pat_modalities[:-4]]))\n",
      "/var/folders/g6/x4tl74v50ws8d3m02r0_9d6m0000gn/T/ipykernel_51973/2381184623.py:4: DtypeWarning: Columns (0,1) have mixed types. Specify dtype option on import or set low_memory=False.\n",
      "  dfs.append(pd.read_csv(path_to_raw_dir + patient + '/' + pat_modalities, skiprows=0, names=[pat_modalities[:-4]]))\n",
      "/var/folders/g6/x4tl74v50ws8d3m02r0_9d6m0000gn/T/ipykernel_51973/2381184623.py:4: DtypeWarning: Columns (0,1) have mixed types. Specify dtype option on import or set low_memory=False.\n",
      "  dfs.append(pd.read_csv(path_to_raw_dir + patient + '/' + pat_modalities, skiprows=0, names=[pat_modalities[:-4]]))\n",
      "/var/folders/g6/x4tl74v50ws8d3m02r0_9d6m0000gn/T/ipykernel_51973/2381184623.py:4: DtypeWarning: Columns (0,1) have mixed types. Specify dtype option on import or set low_memory=False.\n",
      "  dfs.append(pd.read_csv(path_to_raw_dir + patient + '/' + pat_modalities, skiprows=0, names=[pat_modalities[:-4]]))\n",
      "/var/folders/g6/x4tl74v50ws8d3m02r0_9d6m0000gn/T/ipykernel_51973/2381184623.py:4: DtypeWarning: Columns (0,1) have mixed types. Specify dtype option on import or set low_memory=False.\n",
      "  dfs.append(pd.read_csv(path_to_raw_dir + patient + '/' + pat_modalities, skiprows=0, names=[pat_modalities[:-4]]))\n",
      "/var/folders/g6/x4tl74v50ws8d3m02r0_9d6m0000gn/T/ipykernel_51973/2381184623.py:4: DtypeWarning: Columns (0,1) have mixed types. Specify dtype option on import or set low_memory=False.\n",
      "  dfs.append(pd.read_csv(path_to_raw_dir + patient + '/' + pat_modalities, skiprows=0, names=[pat_modalities[:-4]]))\n",
      "/var/folders/g6/x4tl74v50ws8d3m02r0_9d6m0000gn/T/ipykernel_51973/2381184623.py:4: DtypeWarning: Columns (0,1) have mixed types. Specify dtype option on import or set low_memory=False.\n",
      "  dfs.append(pd.read_csv(path_to_raw_dir + patient + '/' + pat_modalities, skiprows=0, names=[pat_modalities[:-4]]))\n",
      "/var/folders/g6/x4tl74v50ws8d3m02r0_9d6m0000gn/T/ipykernel_51973/2381184623.py:4: DtypeWarning: Columns (0,1) have mixed types. Specify dtype option on import or set low_memory=False.\n",
      "  dfs.append(pd.read_csv(path_to_raw_dir + patient + '/' + pat_modalities, skiprows=0, names=[pat_modalities[:-4]]))\n",
      "/var/folders/g6/x4tl74v50ws8d3m02r0_9d6m0000gn/T/ipykernel_51973/2381184623.py:5: RuntimeWarning: '<' not supported between instances of 'tuple' and 'int', sort order is undefined for incomparable objects.\n",
      "  df = pd.concat(dfs, axis=1)\n",
      "/var/folders/g6/x4tl74v50ws8d3m02r0_9d6m0000gn/T/ipykernel_51973/2381184623.py:5: RuntimeWarning: '<' not supported between instances of 'tuple' and 'int', sort order is undefined for incomparable objects.\n",
      "  df = pd.concat(dfs, axis=1)\n",
      "/var/folders/g6/x4tl74v50ws8d3m02r0_9d6m0000gn/T/ipykernel_51973/2381184623.py:5: RuntimeWarning: '<' not supported between instances of 'tuple' and 'int', sort order is undefined for incomparable objects.\n",
      "  df = pd.concat(dfs, axis=1)\n",
      "/var/folders/g6/x4tl74v50ws8d3m02r0_9d6m0000gn/T/ipykernel_51973/2381184623.py:5: RuntimeWarning: '<' not supported between instances of 'tuple' and 'int', sort order is undefined for incomparable objects.\n",
      "  df = pd.concat(dfs, axis=1)\n",
      "/var/folders/g6/x4tl74v50ws8d3m02r0_9d6m0000gn/T/ipykernel_51973/2381184623.py:5: RuntimeWarning: '<' not supported between instances of 'tuple' and 'int', sort order is undefined for incomparable objects.\n",
      "  df = pd.concat(dfs, axis=1)\n",
      "/var/folders/g6/x4tl74v50ws8d3m02r0_9d6m0000gn/T/ipykernel_51973/2381184623.py:5: RuntimeWarning: '<' not supported between instances of 'tuple' and 'int', sort order is undefined for incomparable objects.\n",
      "  df = pd.concat(dfs, axis=1)\n",
      "/var/folders/g6/x4tl74v50ws8d3m02r0_9d6m0000gn/T/ipykernel_51973/2381184623.py:5: RuntimeWarning: '<' not supported between instances of 'tuple' and 'int', sort order is undefined for incomparable objects.\n",
      "  df = pd.concat(dfs, axis=1)\n"
     ]
    },
    {
     "ename": "InvalidIndexError",
     "evalue": "Reindexing only valid with uniquely valued Index objects",
     "output_type": "error",
     "traceback": [
      "\u001b[0;31m---------------------------------------------------------------------------\u001b[0m",
      "\u001b[0;31mInvalidIndexError\u001b[0m                         Traceback (most recent call last)",
      "Input \u001b[0;32mIn [5]\u001b[0m, in \u001b[0;36m<cell line: 1>\u001b[0;34m()\u001b[0m\n\u001b[1;32m      3\u001b[0m \u001b[38;5;28;01mfor\u001b[39;00m pat_modalities \u001b[38;5;129;01min\u001b[39;00m patient_data[i]:\n\u001b[1;32m      4\u001b[0m     dfs\u001b[38;5;241m.\u001b[39mappend(pd\u001b[38;5;241m.\u001b[39mread_csv(path_to_raw_dir \u001b[38;5;241m+\u001b[39m patient \u001b[38;5;241m+\u001b[39m \u001b[38;5;124m'\u001b[39m\u001b[38;5;124m/\u001b[39m\u001b[38;5;124m'\u001b[39m \u001b[38;5;241m+\u001b[39m pat_modalities, skiprows\u001b[38;5;241m=\u001b[39m\u001b[38;5;241m0\u001b[39m, names\u001b[38;5;241m=\u001b[39m[pat_modalities[:\u001b[38;5;241m-\u001b[39m\u001b[38;5;241m4\u001b[39m]]))\n\u001b[0;32m----> 5\u001b[0m df \u001b[38;5;241m=\u001b[39m \u001b[43mpd\u001b[49m\u001b[38;5;241;43m.\u001b[39;49m\u001b[43mconcat\u001b[49m\u001b[43m(\u001b[49m\u001b[43mdfs\u001b[49m\u001b[43m,\u001b[49m\u001b[43m \u001b[49m\u001b[43maxis\u001b[49m\u001b[38;5;241;43m=\u001b[39;49m\u001b[38;5;241;43m1\u001b[39;49m\u001b[43m)\u001b[49m\n\u001b[1;32m      6\u001b[0m pd\u001b[38;5;241m.\u001b[39msave(gh)\n",
      "File \u001b[0;32m~/miniforge3/envs/tensorflow/lib/python3.8/site-packages/pandas/util/_decorators.py:311\u001b[0m, in \u001b[0;36mdeprecate_nonkeyword_arguments.<locals>.decorate.<locals>.wrapper\u001b[0;34m(*args, **kwargs)\u001b[0m\n\u001b[1;32m    305\u001b[0m \u001b[38;5;28;01mif\u001b[39;00m \u001b[38;5;28mlen\u001b[39m(args) \u001b[38;5;241m>\u001b[39m num_allow_args:\n\u001b[1;32m    306\u001b[0m     warnings\u001b[38;5;241m.\u001b[39mwarn(\n\u001b[1;32m    307\u001b[0m         msg\u001b[38;5;241m.\u001b[39mformat(arguments\u001b[38;5;241m=\u001b[39marguments),\n\u001b[1;32m    308\u001b[0m         \u001b[38;5;167;01mFutureWarning\u001b[39;00m,\n\u001b[1;32m    309\u001b[0m         stacklevel\u001b[38;5;241m=\u001b[39mstacklevel,\n\u001b[1;32m    310\u001b[0m     )\n\u001b[0;32m--> 311\u001b[0m \u001b[38;5;28;01mreturn\u001b[39;00m \u001b[43mfunc\u001b[49m\u001b[43m(\u001b[49m\u001b[38;5;241;43m*\u001b[39;49m\u001b[43margs\u001b[49m\u001b[43m,\u001b[49m\u001b[43m \u001b[49m\u001b[38;5;241;43m*\u001b[39;49m\u001b[38;5;241;43m*\u001b[39;49m\u001b[43mkwargs\u001b[49m\u001b[43m)\u001b[49m\n",
      "File \u001b[0;32m~/miniforge3/envs/tensorflow/lib/python3.8/site-packages/pandas/core/reshape/concat.py:360\u001b[0m, in \u001b[0;36mconcat\u001b[0;34m(objs, axis, join, ignore_index, keys, levels, names, verify_integrity, sort, copy)\u001b[0m\n\u001b[1;32m    156\u001b[0m \u001b[38;5;124;03m\"\"\"\u001b[39;00m\n\u001b[1;32m    157\u001b[0m \u001b[38;5;124;03mConcatenate pandas objects along a particular axis with optional set logic\u001b[39;00m\n\u001b[1;32m    158\u001b[0m \u001b[38;5;124;03malong the other axes.\u001b[39;00m\n\u001b[0;32m   (...)\u001b[0m\n\u001b[1;32m    345\u001b[0m \u001b[38;5;124;03mValueError: Indexes have overlapping values: ['a']\u001b[39;00m\n\u001b[1;32m    346\u001b[0m \u001b[38;5;124;03m\"\"\"\u001b[39;00m\n\u001b[1;32m    347\u001b[0m op \u001b[38;5;241m=\u001b[39m _Concatenator(\n\u001b[1;32m    348\u001b[0m     objs,\n\u001b[1;32m    349\u001b[0m     axis\u001b[38;5;241m=\u001b[39maxis,\n\u001b[0;32m   (...)\u001b[0m\n\u001b[1;32m    357\u001b[0m     sort\u001b[38;5;241m=\u001b[39msort,\n\u001b[1;32m    358\u001b[0m )\n\u001b[0;32m--> 360\u001b[0m \u001b[38;5;28;01mreturn\u001b[39;00m \u001b[43mop\u001b[49m\u001b[38;5;241;43m.\u001b[39;49m\u001b[43mget_result\u001b[49m\u001b[43m(\u001b[49m\u001b[43m)\u001b[49m\n",
      "File \u001b[0;32m~/miniforge3/envs/tensorflow/lib/python3.8/site-packages/pandas/core/reshape/concat.py:591\u001b[0m, in \u001b[0;36m_Concatenator.get_result\u001b[0;34m(self)\u001b[0m\n\u001b[1;32m    589\u001b[0m         obj_labels \u001b[38;5;241m=\u001b[39m obj\u001b[38;5;241m.\u001b[39maxes[\u001b[38;5;241m1\u001b[39m \u001b[38;5;241m-\u001b[39m ax]\n\u001b[1;32m    590\u001b[0m         \u001b[38;5;28;01mif\u001b[39;00m \u001b[38;5;129;01mnot\u001b[39;00m new_labels\u001b[38;5;241m.\u001b[39mequals(obj_labels):\n\u001b[0;32m--> 591\u001b[0m             indexers[ax] \u001b[38;5;241m=\u001b[39m \u001b[43mobj_labels\u001b[49m\u001b[38;5;241;43m.\u001b[39;49m\u001b[43mget_indexer\u001b[49m\u001b[43m(\u001b[49m\u001b[43mnew_labels\u001b[49m\u001b[43m)\u001b[49m\n\u001b[1;32m    593\u001b[0m     mgrs_indexers\u001b[38;5;241m.\u001b[39mappend((obj\u001b[38;5;241m.\u001b[39m_mgr, indexers))\n\u001b[1;32m    595\u001b[0m new_data \u001b[38;5;241m=\u001b[39m concatenate_managers(\n\u001b[1;32m    596\u001b[0m     mgrs_indexers, \u001b[38;5;28mself\u001b[39m\u001b[38;5;241m.\u001b[39mnew_axes, concat_axis\u001b[38;5;241m=\u001b[39m\u001b[38;5;28mself\u001b[39m\u001b[38;5;241m.\u001b[39mbm_axis, copy\u001b[38;5;241m=\u001b[39m\u001b[38;5;28mself\u001b[39m\u001b[38;5;241m.\u001b[39mcopy\n\u001b[1;32m    597\u001b[0m )\n",
      "File \u001b[0;32m~/miniforge3/envs/tensorflow/lib/python3.8/site-packages/pandas/core/indexes/base.py:3721\u001b[0m, in \u001b[0;36mIndex.get_indexer\u001b[0;34m(self, target, method, limit, tolerance)\u001b[0m\n\u001b[1;32m   3718\u001b[0m \u001b[38;5;28mself\u001b[39m\u001b[38;5;241m.\u001b[39m_check_indexing_method(method, limit, tolerance)\n\u001b[1;32m   3720\u001b[0m \u001b[38;5;28;01mif\u001b[39;00m \u001b[38;5;129;01mnot\u001b[39;00m \u001b[38;5;28mself\u001b[39m\u001b[38;5;241m.\u001b[39m_index_as_unique:\n\u001b[0;32m-> 3721\u001b[0m     \u001b[38;5;28;01mraise\u001b[39;00m InvalidIndexError(\u001b[38;5;28mself\u001b[39m\u001b[38;5;241m.\u001b[39m_requires_unique_msg)\n\u001b[1;32m   3723\u001b[0m \u001b[38;5;28;01mif\u001b[39;00m \u001b[38;5;28mlen\u001b[39m(target) \u001b[38;5;241m==\u001b[39m \u001b[38;5;241m0\u001b[39m:\n\u001b[1;32m   3724\u001b[0m     \u001b[38;5;28;01mreturn\u001b[39;00m np\u001b[38;5;241m.\u001b[39marray([], dtype\u001b[38;5;241m=\u001b[39mnp\u001b[38;5;241m.\u001b[39mintp)\n",
      "\u001b[0;31mInvalidIndexError\u001b[0m: Reindexing only valid with uniquely valued Index objects"
     ]
    }
   ],
   "source": [
    "for i, patient in enumerate(content_dir):\n",
    "    dfs = []\n",
    "    for pat_modalities in patient_data[i]:\n",
    "        dfs.append(pd.read_csv(path_to_raw_dir + patient + '/' + pat_modalities, skiprows=0, names=[pat_modalities[:-4]]))\n",
    "    df = pd.concat(dfs, axis=1)\n",
    "    pd.save(gh)"
   ]
  },
  {
   "cell_type": "markdown",
   "id": "3a0b4e4b",
   "metadata": {},
   "source": [
    "## Plot Data"
   ]
  },
  {
   "cell_type": "code",
   "execution_count": null,
   "id": "958095fc",
   "metadata": {},
   "outputs": [],
   "source": []
  }
 ],
 "metadata": {
  "kernelspec": {
   "display_name": "Python 3 (ipykernel)",
   "language": "python",
   "name": "python3"
  },
  "language_info": {
   "codemirror_mode": {
    "name": "ipython",
    "version": 3
   },
   "file_extension": ".py",
   "mimetype": "text/x-python",
   "name": "python",
   "nbconvert_exporter": "python",
   "pygments_lexer": "ipython3",
   "version": "3.8.13"
  }
 },
 "nbformat": 4,
 "nbformat_minor": 5
}
