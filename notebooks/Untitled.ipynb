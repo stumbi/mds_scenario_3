{
 "cells": [
  {
   "cell_type": "code",
   "execution_count": null,
   "id": "60995cc5",
   "metadata": {},
   "outputs": [],
   "source": [
    "from keras.models import Sequential\n",
    "from keras.layers import Dense\n",
    "from keras.layers import Conv1D\n",
    "from keras.layers import Conv2D\n",
    "from keras.layers import MaxPooling1D\n",
    "from keras.layers import MaxPooling2D\n",
    "from keras.layers.core import Reshape\n",
    "from keras.layers import Flatten\n",
    "from keras import optimizers as opt\n",
    "from keras import regularizers"
   ]
  },
  {
   "cell_type": "code",
   "execution_count": null,
   "id": "e4cba568",
   "metadata": {},
   "outputs": [],
   "source": [
    "def createModel():\n",
    "    model = Sequential()\n",
    "    model.add(Conv1D(filters=20, kernel_size = 200, strides= 1,padding = 'valid', input_shape=(15000,1),activation='relu',kernel_regularizer=regularizers.l2(0.001)))\n",
    "    print(model.input_shape)\n",
    "    print(\"C1：\",end=\"\")\n",
    "    print(model.output_shape)\n",
    "    model.add(MaxPooling1D(pool_size=20, strides=10, padding='valid'))\n",
    "    print(\"P1：\",end=\"\")\n",
    "    print(model.output_shape)\n",
    "    print(\"Stacking layer：\",end=\"\")\n",
    "    model.add(Reshape([20,-1,1]))\n",
    "    print(model.output_shape)\n",
    "\n",
    "    model.add(Conv2D(filters=400, kernel_size = (20,30), strides= 1,padding = 'valid',activation='relu',data_format='channels_last'))\n",
    "    print(\"C2：\",end=\"\")\n",
    "    print(model.output_shape)\n",
    "    model.add(MaxPooling2D(pool_size=(1,10), strides=2, padding='valid',data_format='channels_last'))\n",
    "    print(\"P2：\",end=\"\")\n",
    "    print(model.output_shape)\n",
    "\n",
    "    model.add(Flatten(data_format='channels_last'))\n",
    "    print(model.output_shape)\n",
    "\n",
    "    model.add(Dense(500,activation='relu'))\n",
    "    print(\"M1：\",end=\"\")\n",
    "    print(model.output_shape)\n",
    "    model.add(Dense(500,activation='relu'))\n",
    "    print(\"M2：\",end=\"\")\n",
    "    print(model.output_shape)\n",
    "\n",
    "    model.add(Dense(5,activation='softmax'))\n",
    "    print(model.output_shape)\n",
    "    model.compile(optimizer=opt.SGD(lr = 0.00005), loss='categorical_crossentropy', metrics=['accuracy'])\n",
    "    return model"
   ]
  }
 ],
 "metadata": {
  "kernelspec": {
   "display_name": "Python 3 (ipykernel)",
   "language": "python",
   "name": "python3"
  },
  "language_info": {
   "codemirror_mode": {
    "name": "ipython",
    "version": 3
   },
   "file_extension": ".py",
   "mimetype": "text/x-python",
   "name": "python",
   "nbconvert_exporter": "python",
   "pygments_lexer": "ipython3",
   "version": "3.9.7"
  }
 },
 "nbformat": 4,
 "nbformat_minor": 5
}
