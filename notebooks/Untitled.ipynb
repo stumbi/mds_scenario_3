{
 "cells": [
  {
   "cell_type": "code",
   "execution_count": 2,
   "id": "1be2c6af",
   "metadata": {},
   "outputs": [],
   "source": [
    "import numpy as np\n",
    "import pandas as pd\n",
    "import plotly.graph_objects as go\n",
    "import os"
   ]
  },
  {
   "cell_type": "markdown",
   "id": "f5499646",
   "metadata": {},
   "source": [
    "## Read Data"
   ]
  },
  {
   "cell_type": "code",
   "execution_count": 3,
   "id": "37937588",
   "metadata": {},
   "outputs": [],
   "source": [
    "path_to_raw_dir = '../data/Exercises_SS22/sleeplab_dataset/sleep_lab_data'\n",
    "\n",
    "content_dir = os.listdir(path_to_raw_dir)\n",
    "\n",
    "patient_data = []\n",
    "\n",
    "for patient in content_dir:\n",
    "    pat_dir = os.listdir(path_to_raw_dir + '/' + patient)\n",
    "    patient_data.append(pat_dir)"
   ]
  },
  {
   "cell_type": "code",
   "execution_count": null,
   "id": "88a86fbc",
   "metadata": {},
   "outputs": [],
   "source": [
    "import csv\n",
    "\n",
    "with open(path_to_raw_dir + '/' + content_dir[0] + '/' + patient_data[0][0], newline='') as f:\n",
    "    reader = csv.reader(f)\n",
    "    data = list(reader)\n",
    "\n",
    "print(data)"
   ]
  },
  {
   "cell_type": "markdown",
   "id": "3a0b4e4b",
   "metadata": {},
   "source": [
    "## Plot Data"
   ]
  },
  {
   "cell_type": "code",
   "execution_count": null,
   "id": "958095fc",
   "metadata": {},
   "outputs": [],
   "source": []
  }
 ],
 "metadata": {
  "kernelspec": {
   "display_name": "Python 3 (ipykernel)",
   "language": "python",
   "name": "python3"
  },
  "language_info": {
   "codemirror_mode": {
    "name": "ipython",
    "version": 3
   },
   "file_extension": ".py",
   "mimetype": "text/x-python",
   "name": "python",
   "nbconvert_exporter": "python",
   "pygments_lexer": "ipython3",
   "version": "3.9.7"
  }
 },
 "nbformat": 4,
 "nbformat_minor": 5
}
